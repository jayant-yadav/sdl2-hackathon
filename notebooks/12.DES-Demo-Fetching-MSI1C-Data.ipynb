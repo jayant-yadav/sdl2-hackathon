{
 "cells": [
  {
   "cell_type": "code",
   "execution_count": 1,
   "id": "7b19c359-39cd-45e6-a7d7-e0e283cc9a03",
   "metadata": {
    "tags": []
   },
   "outputs": [],
   "source": [
    "%matplotlib inline\n",
    "import openeo\n",
    "import rasterio\n",
    "import os\n",
    "from config import user,passwd,eo_service_url\n",
    "from demo_helpers import show_result\n",
    "from demo_regions import s2"
   ]
  },
  {
   "cell_type": "code",
   "execution_count": 2,
   "id": "afca778e-b4cd-4b6c-933c-98debb280408",
   "metadata": {
    "tags": []
   },
   "outputs": [
    {
     "data": {
      "text/plain": [
       "<Connection to 'https://sandbox.spacedatalab.se/openeo' with BasicBearerAuth>"
      ]
     },
     "execution_count": 2,
     "metadata": {},
     "output_type": "execute_result"
    }
   ],
   "source": [
    "conn = openeo.connect(eo_service_url)\n",
    "conn.authenticate_basic(username=user, password=passwd)"
   ]
  },
  {
   "cell_type": "code",
   "execution_count": 3,
   "id": "b04cca66-98de-4219-8a86-24e67b8310a2",
   "metadata": {
    "tags": []
   },
   "outputs": [],
   "source": [
    "cube = conn.load_collection(\"s2_msi_l1c\",\n",
    "                         spatial_extent=s2.bbox.small_33vvc,\n",
    "                         temporal_extent=[\"2022-06-01\", \"2022-06-15\"])\n",
    "job = cube.create_job(out_format=\"gtiff\",\n",
    "    title= \"MSI1C fetch data\",\n",
    "    description = \"Fetching some MSI1C data\")"
   ]
  },
  {
   "cell_type": "code",
   "execution_count": 4,
   "id": "296780a7-9de1-44bd-b8ba-23745fdcbdeb",
   "metadata": {
    "tags": []
   },
   "outputs": [
    {
     "name": "stdout",
     "output_type": "stream",
     "text": [
      "0:00:00 Job '51a1a3d2-f06c-45c9-982d-98605ad67fb2': send 'start'\n",
      "0:00:00 Job '51a1a3d2-f06c-45c9-982d-98605ad67fb2': queued (progress 0.0%)\n",
      "0:00:05 Job '51a1a3d2-f06c-45c9-982d-98605ad67fb2': running (progress 0.0%)\n",
      "0:00:11 Job '51a1a3d2-f06c-45c9-982d-98605ad67fb2': running (progress 0.0%)\n",
      "0:00:19 Job '51a1a3d2-f06c-45c9-982d-98605ad67fb2': running (progress 0.0%)\n",
      "0:00:29 Job '51a1a3d2-f06c-45c9-982d-98605ad67fb2': running (progress 0.0%)\n",
      "0:00:41 Job '51a1a3d2-f06c-45c9-982d-98605ad67fb2': running (progress 0.0%)\n",
      "0:00:56 Job '51a1a3d2-f06c-45c9-982d-98605ad67fb2': running (progress 0.0%)\n",
      "0:01:15 Job '51a1a3d2-f06c-45c9-982d-98605ad67fb2': running (progress 0.0%)\n",
      "0:01:39 Job '51a1a3d2-f06c-45c9-982d-98605ad67fb2': running (progress 0.0%)\n",
      "0:02:09 Job '51a1a3d2-f06c-45c9-982d-98605ad67fb2': finished (progress 100.0%)\n"
     ]
    },
    {
     "data": {
      "text/html": [
       "\n",
       "    <script>\n",
       "    if (!window.customElements || !window.customElements.get('openeo-job')) {\n",
       "        var el = document.createElement('script');\n",
       "        el.src = \"https://cdn.jsdelivr.net/npm/@openeo/vue-components@2/assets/openeo.min.js\";\n",
       "        document.head.appendChild(el);\n",
       "\n",
       "        var font = document.createElement('font');\n",
       "        font.as = \"font\";\n",
       "        font.type = \"font/woff2\";\n",
       "        font.crossOrigin = true;\n",
       "        font.href = \"https://use.fontawesome.com/releases/v5.13.0/webfonts/fa-solid-900.woff2\"\n",
       "        document.head.appendChild(font);\n",
       "    }\n",
       "    </script>\n",
       "    <openeo-job>\n",
       "        <script type=\"application/json\">{\"currency\": null, \"job\": {\"id\": \"51a1a3d2-f06c-45c9-982d-98605ad67fb2\", \"title\": \"MSI1C fetch data\", \"description\": \"Fetching some MSI1C data\", \"process\": {\"process_graph\": {\"loadcollection1\": {\"process_id\": \"load_collection\", \"arguments\": {\"id\": \"s2_msi_l1c\", \"spatial_extent\": {\"west\": 14.555719745816692, \"east\": 14.79187736312752, \"south\": 55.991257253340635, \"north\": 56.10331290101734}, \"temporal_extent\": [\"2022-06-01\", \"2022-06-15\"]}}, \"saveresult1\": {\"process_id\": \"save_result\", \"arguments\": {\"data\": {\"from_node\": \"loadcollection1\"}, \"format\": \"gtiff\", \"options\": {}}, \"result\": true}}}, \"status\": \"finished\", \"progress\": 100.0, \"created\": \"2023-09-26T12:54:52.092305+00:00\", \"updated\": \"2023-09-26T12:56:47.813429+00:00\", \"budget\": 0.0}}</script>\n",
       "    </openeo-job>\n",
       "    "
      ],
      "text/plain": [
       "<BatchJob job_id='51a1a3d2-f06c-45c9-982d-98605ad67fb2'>"
      ]
     },
     "execution_count": 4,
     "metadata": {},
     "output_type": "execute_result"
    }
   ],
   "source": [
    "job.start_and_wait()"
   ]
  },
  {
   "cell_type": "code",
   "execution_count": 5,
   "id": "fdc94091-539b-4964-9844-4e15dfc47f61",
   "metadata": {
    "tags": []
   },
   "outputs": [
    {
     "data": {
      "text/html": [
       "\n",
       "    <script>\n",
       "    if (!window.customElements || !window.customElements.get('openeo-item')) {\n",
       "        var el = document.createElement('script');\n",
       "        el.src = \"https://cdn.jsdelivr.net/npm/@openeo/vue-components@2/assets/openeo.min.js\";\n",
       "        document.head.appendChild(el);\n",
       "\n",
       "        var font = document.createElement('font');\n",
       "        font.as = \"font\";\n",
       "        font.type = \"font/woff2\";\n",
       "        font.crossOrigin = true;\n",
       "        font.href = \"https://use.fontawesome.com/releases/v5.13.0/webfonts/fa-solid-900.woff2\"\n",
       "        document.head.appendChild(font);\n",
       "    }\n",
       "    </script>\n",
       "    <openeo-item>\n",
       "        <script type=\"application/json\">{\"mapOptions\": {}, \"data\": {\"stac_version\": \"1.0.0\", \"stac_extensions\": [], \"id\": \"51a1a3d2-f06c-45c9-982d-98605ad67fb2\", \"type\": \"Feature\", \"bbox\": [472280.0, 6205120.0, 487060.0, 6217670.0], \"geometry\": {\"type\": \"Polygon\", \"coordinates\": [[[472280.0, 6205120.0], [472280.0, 6217670.0], [487060.0, 6217670.0], [487060.0, 6205120.0], [472280.0, 6205120.0]]]}, \"properties\": {\"datetime\": \"2023-09-26T12:56:26.314958\", \"title\": \"MSI1C fetch data\", \"description\": \"Fetching some MSI1C data\", \"created\": \"2023-09-26T12:54:52.092305+00:00\", \"updated\": \"2023-09-26T12:54:56.814723\", \"start_datetime\": \"2023-09-26T12:54:57.465721\", \"end_datetime\": \"2023-09-26T12:56:26.314702\"}, \"assets\": {\"generated-code.py\": {\"type\": \"application/python\", \"title\": \"generated-code.py\", \"roles\": [\"python-code\", \"reproduction\"], \"href\": \"https://s3.ice.ri.se/dfmspace-eos-user-data/testuser_0/jobs/51a1a3d2-f06c-45c9-982d-98605ad67fb2/generated-code.py?AWSAccessKeyId=AJG39J3334QC15SBI3DZ&Signature=0R8fpa29I71Cscq3XBoaqjS037Y%3D&Expires=1695736621\"}, \"process.json\": {\"type\": \"application/json\", \"title\": \"process.json\", \"roles\": [\"process\", \"reproduction\"], \"href\": \"https://s3.ice.ri.se/dfmspace-eos-user-data/testuser_0/jobs/51a1a3d2-f06c-45c9-982d-98605ad67fb2/process.json?AWSAccessKeyId=AJG39J3334QC15SBI3DZ&Signature=2TNDzCD%2F5XK6RbNU0d%2FTUzJfuhU%3D&Expires=1695736621\"}, \"51a1a3d2-f06c-45c9-982d-98605ad67fb2__2022_06_05T10_15_59.tif\": {\"type\": \"image/tiff; application=geotiff\", \"roles\": [\"data\"], \"href\": \"https://s3.ice.ri.se/dfmspace-eos-user-data/testuser_0/jobs/51a1a3d2-f06c-45c9-982d-98605ad67fb2/51a1a3d2-f06c-45c9-982d-98605ad67fb2__2022_06_05T10_15_59.tif?AWSAccessKeyId=AJG39J3334QC15SBI3DZ&Signature=ACm4rVZBmZUqMl4mVVHAH%2FLqnag%3D&Expires=1695736621\", \"title\": \"51a1a3d2-f06c-45c9-982d-98605ad67fb2__2022_06_05T10_15_59.tif\"}, \"51a1a3d2-f06c-45c9-982d-98605ad67fb2__2022_06_12T10_05_59.tif\": {\"type\": \"image/tiff; application=geotiff\", \"roles\": [\"data\"], \"href\": \"https://s3.ice.ri.se/dfmspace-eos-user-data/testuser_0/jobs/51a1a3d2-f06c-45c9-982d-98605ad67fb2/51a1a3d2-f06c-45c9-982d-98605ad67fb2__2022_06_12T10_05_59.tif?AWSAccessKeyId=AJG39J3334QC15SBI3DZ&Signature=Tyfo5lxcjIeKwIFx1Zmxisrp%2FB0%3D&Expires=1695736621\", \"title\": \"51a1a3d2-f06c-45c9-982d-98605ad67fb2__2022_06_12T10_05_59.tif\"}, \"51a1a3d2-f06c-45c9-982d-98605ad67fb2__2022_06_10T10_16_11.tif\": {\"type\": \"image/tiff; application=geotiff\", \"roles\": [\"data\"], \"href\": \"https://s3.ice.ri.se/dfmspace-eos-user-data/testuser_0/jobs/51a1a3d2-f06c-45c9-982d-98605ad67fb2/51a1a3d2-f06c-45c9-982d-98605ad67fb2__2022_06_10T10_16_11.tif?AWSAccessKeyId=AJG39J3334QC15SBI3DZ&Signature=ba%2FcrgzftQqk0ED5lN5vxFzBGAM%3D&Expires=1695736621\", \"title\": \"51a1a3d2-f06c-45c9-982d-98605ad67fb2__2022_06_10T10_16_11.tif\"}, \"51a1a3d2-f06c-45c9-982d-98605ad67fb2__2022_06_07T10_06_01.tif\": {\"type\": \"image/tiff; application=geotiff\", \"roles\": [\"data\"], \"href\": \"https://s3.ice.ri.se/dfmspace-eos-user-data/testuser_0/jobs/51a1a3d2-f06c-45c9-982d-98605ad67fb2/51a1a3d2-f06c-45c9-982d-98605ad67fb2__2022_06_07T10_06_01.tif?AWSAccessKeyId=AJG39J3334QC15SBI3DZ&Signature=a38EycA40eU1peEm2xU8XOE%2BcSQ%3D&Expires=1695736621\", \"title\": \"51a1a3d2-f06c-45c9-982d-98605ad67fb2__2022_06_07T10_06_01.tif\"}, \"51a1a3d2-f06c-45c9-982d-98605ad67fb2__2022_06_02T10_05_59.tif\": {\"type\": \"image/tiff; application=geotiff\", \"roles\": [\"data\"], \"href\": \"https://s3.ice.ri.se/dfmspace-eos-user-data/testuser_0/jobs/51a1a3d2-f06c-45c9-982d-98605ad67fb2/51a1a3d2-f06c-45c9-982d-98605ad67fb2__2022_06_02T10_05_59.tif?AWSAccessKeyId=AJG39J3334QC15SBI3DZ&Signature=cXbmVVX7cPqdX7NYDzELbyYf2jo%3D&Expires=1695736621\", \"title\": \"51a1a3d2-f06c-45c9-982d-98605ad67fb2__2022_06_02T10_05_59.tif\"}, \"stac.json\": {\"type\": \"application/json\", \"title\": \"stac.json\", \"roles\": [\"data\"], \"href\": \"https://s3.ice.ri.se/dfmspace-eos-user-data/testuser_0/jobs/51a1a3d2-f06c-45c9-982d-98605ad67fb2/stac.json?AWSAccessKeyId=AJG39J3334QC15SBI3DZ&Signature=XIaht2sL7zSGyKMDvtzuai8ktR8%3D&Expires=1695736621\"}, \"product.yml\": {\"type\": \"application/yml\", \"title\": \"product.yml\", \"description\": \"YML metadata\", \"roles\": [\"metadata\"], \"href\": \"https://s3.ice.ri.se/dfmspace-eos-user-data/testuser_0/jobs/51a1a3d2-f06c-45c9-982d-98605ad67fb2/product.yml?AWSAccessKeyId=AJG39J3334QC15SBI3DZ&Signature=ShSll7kd93XyBE3GKQ%2B0uE%2FusOw%3D&Expires=1695736621\"}, \"py_proc_std_out.txt\": {\"type\": \"application/yml\", \"title\": \"py_proc_std_out.txt\", \"description\": \"Process output metadata\", \"roles\": [\"metadata\"], \"href\": \"https://s3.ice.ri.se/dfmspace-eos-user-data/testuser_0/jobs/51a1a3d2-f06c-45c9-982d-98605ad67fb2/py_proc_std_out.txt?AWSAccessKeyId=AJG39J3334QC15SBI3DZ&Signature=diYYqw02%2FHh6YgcOwPw8vjlWy6c%3D&Expires=1695736621\"}, \"py_proc_std_err.txt\": {\"type\": \"application/yml\", \"title\": \"py_proc_std_err.txt\", \"description\": \"Process output metadata\", \"roles\": [\"metadata\"], \"href\": \"https://s3.ice.ri.se/dfmspace-eos-user-data/testuser_0/jobs/51a1a3d2-f06c-45c9-982d-98605ad67fb2/py_proc_std_err.txt?AWSAccessKeyId=AJG39J3334QC15SBI3DZ&Signature=P9RoVGQTfF7Thd80YwE6o4mdUSY%3D&Expires=1695736621\"}}, \"links\": [{\"rel\": \"start\", \"href\": \"https://sandbox.spacedatalab.se/openeo\", \"title\": \"OpenEO\"}]}}</script>\n",
       "    </openeo-item>\n",
       "    "
      ],
      "text/plain": [
       "<JobResults for job '51a1a3d2-f06c-45c9-982d-98605ad67fb2'>"
      ]
     },
     "metadata": {},
     "output_type": "display_data"
    }
   ],
   "source": [
    "results = job.get_results()\n",
    "display(results)"
   ]
  },
  {
   "cell_type": "code",
   "execution_count": 18,
   "id": "7cef0a0f-b753-463e-8e78-f0417d88cbd6",
   "metadata": {
    "tags": []
   },
   "outputs": [
    {
     "name": "stdout",
     "output_type": "stream",
     "text": [
      "Skipped generated-code.py\n",
      "Skipped process.json\n",
      "Downloading 51a1a3d2-f06c-45c9-982d-98605ad67fb2__2022_06_05T10_15_59.tif...\n",
      "Downloading 51a1a3d2-f06c-45c9-982d-98605ad67fb2__2022_06_12T10_05_59.tif...\n",
      "Downloading 51a1a3d2-f06c-45c9-982d-98605ad67fb2__2022_06_10T10_16_11.tif...\n",
      "Downloading 51a1a3d2-f06c-45c9-982d-98605ad67fb2__2022_06_07T10_06_01.tif...\n",
      "Downloading 51a1a3d2-f06c-45c9-982d-98605ad67fb2__2022_06_02T10_05_59.tif...\n",
      "Skipped stac.json\n",
      "Skipped product.yml\n",
      "Skipped py_proc_std_out.txt\n",
      "Skipped py_proc_std_err.txt\n"
     ]
    }
   ],
   "source": [
    "# Download all image files to a new directory\n",
    "directory_path = \"msi1c-data\"\n",
    "if not os.path.exists(directory_path):\n",
    "    os.mkdir(directory_path)\n",
    "\n",
    "for asset in results.get_assets():\n",
    "    if asset.name.endswith(\".tif\"):\n",
    "        print(f\"Downloading {asset.name}...\")\n",
    "        asset.download(directory_path)\n",
    "    else:\n",
    "        print(f\"Skipped {asset.name}\")"
   ]
  },
  {
   "cell_type": "code",
   "execution_count": 19,
   "id": "aa57cd4e-438f-437e-9c80-66cdb18e8ab0",
   "metadata": {},
   "outputs": [
    {
     "name": "stdout",
     "output_type": "stream",
     "text": [
      "Processed: 51a1a3d2-f06c-45c9-982d-98605ad67fb2__2022_06_07T10_06_01.tif, Shape: (13, 1255, 1478)\n",
      "Processed: 51a1a3d2-f06c-45c9-982d-98605ad67fb2__2022_06_02T10_05_59.tif, Shape: (13, 1255, 1478)\n",
      "Processed: 51a1a3d2-f06c-45c9-982d-98605ad67fb2__2022_06_12T10_05_59.tif, Shape: (13, 1255, 1478)\n",
      "Processed: 51a1a3d2-f06c-45c9-982d-98605ad67fb2__2022_06_05T10_15_59.tif, Shape: (13, 1255, 1478)\n",
      "Processed: 51a1a3d2-f06c-45c9-982d-98605ad67fb2__2022_06_10T10_16_11.tif, Shape: (13, 1255, 1478)\n"
     ]
    }
   ],
   "source": [
    "# Loop through all files in the directory\n",
    "for filename in os.listdir(directory_path):\n",
    "    # Check if the file has a .tif extension\n",
    "    if filename.endswith(\".tif\"):\n",
    "        file_path = os.path.join(directory_path, filename)\n",
    "        \n",
    "        with rasterio.open(file_path) as src:\n",
    "            # Read the file into a numpy array\n",
    "            array = src.read()\n",
    "            \n",
    "            # Save the arrays here for further processing\n",
    "            \n",
    "            print(f\"Processed: {filename}, Shape: {array.shape}\")\n"
   ]
  },
  {
   "cell_type": "code",
   "execution_count": null,
   "id": "e9b34dda-75f9-4302-843a-20c144a9697a",
   "metadata": {},
   "outputs": [],
   "source": []
  }
 ],
 "metadata": {
  "kernelspec": {
   "display_name": "Python 3 (ipykernel)",
   "language": "python",
   "name": "python3"
  },
  "language_info": {
   "codemirror_mode": {
    "name": "ipython",
    "version": 3
   },
   "file_extension": ".py",
   "mimetype": "text/x-python",
   "name": "python",
   "nbconvert_exporter": "python",
   "pygments_lexer": "ipython3",
   "version": "3.10.12"
  }
 },
 "nbformat": 4,
 "nbformat_minor": 5
}
